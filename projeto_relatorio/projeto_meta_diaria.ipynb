{
 "cells": [
  {
   "cell_type": "code",
   "execution_count": 12,
   "metadata": {},
   "outputs": [],
   "source": [
    "import pandas as pd\n",
    "import time\n",
    "import mysql.connector\n",
    "from datetime import datetime, timedelta\n",
    "import numpy as np"
   ]
  },
  {
   "cell_type": "code",
   "execution_count": 13,
   "metadata": {},
   "outputs": [],
   "source": [
    "def SQL_INSERT_STATEMENT_FROM_DATAFRAME(SOURCE, TARGET):\n",
    "    sql_texts = []\n",
    "    for index, row in SOURCE.iterrows():\n",
    "        sql_texts.append('INSERT INTO '+TARGET+' (' +\n",
    "                         str(', '.join(SOURCE.columns)) + ') VALUES ' + str(tuple(row.values)))\n",
    "    return sql_texts\n"
   ]
  },
  {
   "cell_type": "code",
   "execution_count": 14,
   "metadata": {},
   "outputs": [],
   "source": [
    "def dias_mes():\n",
    "    mes_ = int(datetime.today().month)\n",
    "    match mes_:\n",
    "        case 1:\n",
    "            return 31\n",
    "        case 2:\n",
    "            return 28\n",
    "        case 3:\n",
    "            return 31\n",
    "        case 4:\n",
    "            return 30\n",
    "        case 5:\n",
    "            return 31\n",
    "        case 6:\n",
    "            return 30\n",
    "        case 7:\n",
    "            return 31\n",
    "        case 8:\n",
    "            return 31\n",
    "        case 9:\n",
    "            return 30\n",
    "        case 10:\n",
    "            return 31\n",
    "        case 11:\n",
    "            return 30\n",
    "        case 12:\n",
    "            return 31\n",
    "\n",
    "mes = dias_mes()"
   ]
  },
  {
   "cell_type": "code",
   "execution_count": 15,
   "metadata": {},
   "outputs": [],
   "source": [
    "banco = mysql.connector.connect(\n",
    "    host=\"mysql.nerusconsultoria.com.br\",\n",
    "    user=\"nerusconsultor02\",\n",
    "    passwd=\"0l1d3ranca2\",\n",
    "    database=\"nerusconsultor02\"\n",
    ")\n",
    "\n",
    "cursor = banco.cursor()\n",
    "\n",
    "comando_sql = '''SELECT ca.id AS ID,ca.empresa AS Cliente,cc.operador,ca.meta_num,int_hj.interessados FROM nerusconsultor02.cadastro_clientes AS ca\n",
    "                LEFT JOIN (SELECT CONCAT(cliente_id_fk) AS id,COUNT(*) AS interessados FROM sales_base_leads \n",
    "\t\t\t    WHERE EXTRACT(YEAR_MONTH FROM ultima_resposta) = EXTRACT(YEAR_MONTH FROM CURRENT_TIMESTAMP) \n",
    "                AND status_interested_id_level_fk = 1 GROUP BY cliente_id_fk) AS int_hj ON int_hj.id = ca.id\n",
    "                JOIN carteira_clientes AS cc ON cc.id = ca.operador_fk \n",
    "                WHERE ca.status != 0 AND ca.campanha_pausada = 1 AND ca.id != 20 AND ca.id !=22'''\n",
    "\n",
    "cursor.execute(comando_sql)\n",
    "\n",
    "valores_lidos = cursor.fetchall()\n",
    "\n",
    "df_base = pd.DataFrame(valores_lidos)"
   ]
  },
  {
   "cell_type": "code",
   "execution_count": 16,
   "metadata": {},
   "outputs": [],
   "source": [
    "df_base = df_base.rename(columns={0:\"id\", 1:\"empresa\",2:\"carteira\",3:\"meta_num\",4:\"int_hj\"})"
   ]
  },
  {
   "cell_type": "code",
   "execution_count": 21,
   "metadata": {},
   "outputs": [
    {
     "data": {
      "text/html": [
       "<div>\n",
       "<style scoped>\n",
       "    .dataframe tbody tr th:only-of-type {\n",
       "        vertical-align: middle;\n",
       "    }\n",
       "\n",
       "    .dataframe tbody tr th {\n",
       "        vertical-align: top;\n",
       "    }\n",
       "\n",
       "    .dataframe thead th {\n",
       "        text-align: right;\n",
       "    }\n",
       "</style>\n",
       "<table border=\"1\" class=\"dataframe\">\n",
       "  <thead>\n",
       "    <tr style=\"text-align: right;\">\n",
       "      <th></th>\n",
       "      <th>id</th>\n",
       "      <th>result</th>\n",
       "      <th>data_verif</th>\n",
       "    </tr>\n",
       "  </thead>\n",
       "  <tbody>\n",
       "    <tr>\n",
       "      <th>0</th>\n",
       "      <td>10</td>\n",
       "      <td>1</td>\n",
       "      <td>2022-06-03</td>\n",
       "    </tr>\n",
       "    <tr>\n",
       "      <th>1</th>\n",
       "      <td>13</td>\n",
       "      <td>1</td>\n",
       "      <td>2022-06-03</td>\n",
       "    </tr>\n",
       "    <tr>\n",
       "      <th>2</th>\n",
       "      <td>23</td>\n",
       "      <td>0</td>\n",
       "      <td>2022-06-03</td>\n",
       "    </tr>\n",
       "    <tr>\n",
       "      <th>3</th>\n",
       "      <td>24</td>\n",
       "      <td>0</td>\n",
       "      <td>2022-06-03</td>\n",
       "    </tr>\n",
       "    <tr>\n",
       "      <th>4</th>\n",
       "      <td>68</td>\n",
       "      <td>1</td>\n",
       "      <td>2022-06-03</td>\n",
       "    </tr>\n",
       "    <tr>\n",
       "      <th>...</th>\n",
       "      <td>...</td>\n",
       "      <td>...</td>\n",
       "      <td>...</td>\n",
       "    </tr>\n",
       "    <tr>\n",
       "      <th>139</th>\n",
       "      <td>637</td>\n",
       "      <td>0</td>\n",
       "      <td>2022-06-03</td>\n",
       "    </tr>\n",
       "    <tr>\n",
       "      <th>140</th>\n",
       "      <td>639</td>\n",
       "      <td>0</td>\n",
       "      <td>2022-06-03</td>\n",
       "    </tr>\n",
       "    <tr>\n",
       "      <th>141</th>\n",
       "      <td>640</td>\n",
       "      <td>0</td>\n",
       "      <td>2022-06-03</td>\n",
       "    </tr>\n",
       "    <tr>\n",
       "      <th>142</th>\n",
       "      <td>641</td>\n",
       "      <td>0</td>\n",
       "      <td>2022-06-03</td>\n",
       "    </tr>\n",
       "    <tr>\n",
       "      <th>143</th>\n",
       "      <td>642</td>\n",
       "      <td>0</td>\n",
       "      <td>2022-06-03</td>\n",
       "    </tr>\n",
       "  </tbody>\n",
       "</table>\n",
       "<p>144 rows × 3 columns</p>\n",
       "</div>"
      ],
      "text/plain": [
       "      id  result  data_verif\n",
       "0     10       1  2022-06-03\n",
       "1     13       1  2022-06-03\n",
       "2     23       0  2022-06-03\n",
       "3     24       0  2022-06-03\n",
       "4     68       1  2022-06-03\n",
       "..   ...     ...         ...\n",
       "139  637       0  2022-06-03\n",
       "140  639       0  2022-06-03\n",
       "141  640       0  2022-06-03\n",
       "142  641       0  2022-06-03\n",
       "143  642       0  2022-06-03\n",
       "\n",
       "[144 rows x 3 columns]"
      ]
     },
     "metadata": {},
     "output_type": "display_data"
    }
   ],
   "source": [
    "hoje = datetime.today().weekday()\n",
    "\n",
    "if hoje == 0:\n",
    "    data_verif = datetime.today() - timedelta(3)\n",
    "else:\n",
    "    data_verif = datetime.today() - timedelta(1)\n",
    "\n",
    "hj = int(datetime.today().strftime('%d'))\n",
    "tx = 1/mes\n",
    "tx_hj = hj*tx\n",
    "\n",
    "df_base['tx_hj'] = tx_hj\n",
    "\n",
    "df_base['meta_hj'] = round(df_base['meta_num']*df_base['tx_hj'])\n",
    "\n",
    "df_base['result'] = np.where(df_base['int_hj'] >= df_base['meta_hj'], 1, 0)\n",
    "\n",
    "df_base['data_verif'] = data_verif.strftime('%Y-%m-%d')\n",
    "\n",
    "df_entrada = df_base[['id','result','data_verif']]\n",
    "\n",
    "display(df_entrada)\n",
    "#display(df)\n",
    "#display(df_base)"
   ]
  },
  {
   "cell_type": "code",
   "execution_count": 22,
   "metadata": {},
   "outputs": [
    {
     "name": "stdout",
     "output_type": "stream",
     "text": [
      "26.38888888888889\n",
      "144\n",
      "144\n"
     ]
    }
   ],
   "source": [
    "total = df_base['id'].count()\n",
    "\n",
    "bateu = df_entrada.query('result == 1')\n",
    "\n",
    "result_meta_dia = (bateu['id'].count()/total)*100\n",
    "\n",
    "print(result_meta_dia)\n",
    "\n",
    "print(df_entrada['id'].count())\n",
    "print(df_base['id'].count())\n"
   ]
  },
  {
   "cell_type": "code",
   "execution_count": 23,
   "metadata": {},
   "outputs": [
    {
     "name": "stdout",
     "output_type": "stream",
     "text": [
      "[\"INSERT INTO meta_diaria_python (id, result, data_verif) VALUES (10, 1, '2022-06-03')\", \"INSERT INTO meta_diaria_python (id, result, data_verif) VALUES (13, 1, '2022-06-03')\", \"INSERT INTO meta_diaria_python (id, result, data_verif) VALUES (23, 0, '2022-06-03')\", \"INSERT INTO meta_diaria_python (id, result, data_verif) VALUES (24, 0, '2022-06-03')\", \"INSERT INTO meta_diaria_python (id, result, data_verif) VALUES (68, 1, '2022-06-03')\", \"INSERT INTO meta_diaria_python (id, result, data_verif) VALUES (75, 0, '2022-06-03')\", \"INSERT INTO meta_diaria_python (id, result, data_verif) VALUES (97, 1, '2022-06-03')\", \"INSERT INTO meta_diaria_python (id, result, data_verif) VALUES (127, 1, '2022-06-03')\", \"INSERT INTO meta_diaria_python (id, result, data_verif) VALUES (128, 1, '2022-06-03')\", \"INSERT INTO meta_diaria_python (id, result, data_verif) VALUES (141, 0, '2022-06-03')\", \"INSERT INTO meta_diaria_python (id, result, data_verif) VALUES (200, 0, '2022-06-03')\", \"INSERT INTO meta_diaria_python (id, result, data_verif) VALUES (204, 1, '2022-06-03')\", \"INSERT INTO meta_diaria_python (id, result, data_verif) VALUES (220, 1, '2022-06-03')\", \"INSERT INTO meta_diaria_python (id, result, data_verif) VALUES (223, 0, '2022-06-03')\", \"INSERT INTO meta_diaria_python (id, result, data_verif) VALUES (226, 0, '2022-06-03')\", \"INSERT INTO meta_diaria_python (id, result, data_verif) VALUES (228, 0, '2022-06-03')\", \"INSERT INTO meta_diaria_python (id, result, data_verif) VALUES (249, 1, '2022-06-03')\", \"INSERT INTO meta_diaria_python (id, result, data_verif) VALUES (251, 0, '2022-06-03')\", \"INSERT INTO meta_diaria_python (id, result, data_verif) VALUES (290, 1, '2022-06-03')\", \"INSERT INTO meta_diaria_python (id, result, data_verif) VALUES (293, 1, '2022-06-03')\", \"INSERT INTO meta_diaria_python (id, result, data_verif) VALUES (309, 0, '2022-06-03')\", \"INSERT INTO meta_diaria_python (id, result, data_verif) VALUES (316, 1, '2022-06-03')\", \"INSERT INTO meta_diaria_python (id, result, data_verif) VALUES (333, 1, '2022-06-03')\", \"INSERT INTO meta_diaria_python (id, result, data_verif) VALUES (336, 1, '2022-06-03')\", \"INSERT INTO meta_diaria_python (id, result, data_verif) VALUES (346, 0, '2022-06-03')\", \"INSERT INTO meta_diaria_python (id, result, data_verif) VALUES (348, 0, '2022-06-03')\", \"INSERT INTO meta_diaria_python (id, result, data_verif) VALUES (356, 1, '2022-06-03')\", \"INSERT INTO meta_diaria_python (id, result, data_verif) VALUES (357, 1, '2022-06-03')\", \"INSERT INTO meta_diaria_python (id, result, data_verif) VALUES (361, 1, '2022-06-03')\", \"INSERT INTO meta_diaria_python (id, result, data_verif) VALUES (377, 0, '2022-06-03')\", \"INSERT INTO meta_diaria_python (id, result, data_verif) VALUES (403, 0, '2022-06-03')\", \"INSERT INTO meta_diaria_python (id, result, data_verif) VALUES (416, 0, '2022-06-03')\", \"INSERT INTO meta_diaria_python (id, result, data_verif) VALUES (418, 0, '2022-06-03')\", \"INSERT INTO meta_diaria_python (id, result, data_verif) VALUES (432, 1, '2022-06-03')\", \"INSERT INTO meta_diaria_python (id, result, data_verif) VALUES (449, 1, '2022-06-03')\", \"INSERT INTO meta_diaria_python (id, result, data_verif) VALUES (457, 1, '2022-06-03')\", \"INSERT INTO meta_diaria_python (id, result, data_verif) VALUES (463, 0, '2022-06-03')\", \"INSERT INTO meta_diaria_python (id, result, data_verif) VALUES (471, 1, '2022-06-03')\", \"INSERT INTO meta_diaria_python (id, result, data_verif) VALUES (476, 0, '2022-06-03')\", \"INSERT INTO meta_diaria_python (id, result, data_verif) VALUES (477, 0, '2022-06-03')\", \"INSERT INTO meta_diaria_python (id, result, data_verif) VALUES (478, 1, '2022-06-03')\", \"INSERT INTO meta_diaria_python (id, result, data_verif) VALUES (481, 0, '2022-06-03')\", \"INSERT INTO meta_diaria_python (id, result, data_verif) VALUES (484, 1, '2022-06-03')\", \"INSERT INTO meta_diaria_python (id, result, data_verif) VALUES (491, 0, '2022-06-03')\", \"INSERT INTO meta_diaria_python (id, result, data_verif) VALUES (494, 0, '2022-06-03')\", \"INSERT INTO meta_diaria_python (id, result, data_verif) VALUES (504, 1, '2022-06-03')\", \"INSERT INTO meta_diaria_python (id, result, data_verif) VALUES (513, 0, '2022-06-03')\", \"INSERT INTO meta_diaria_python (id, result, data_verif) VALUES (515, 0, '2022-06-03')\", \"INSERT INTO meta_diaria_python (id, result, data_verif) VALUES (523, 0, '2022-06-03')\", \"INSERT INTO meta_diaria_python (id, result, data_verif) VALUES (526, 0, '2022-06-03')\", \"INSERT INTO meta_diaria_python (id, result, data_verif) VALUES (530, 0, '2022-06-03')\", \"INSERT INTO meta_diaria_python (id, result, data_verif) VALUES (536, 1, '2022-06-03')\", \"INSERT INTO meta_diaria_python (id, result, data_verif) VALUES (537, 1, '2022-06-03')\", \"INSERT INTO meta_diaria_python (id, result, data_verif) VALUES (542, 0, '2022-06-03')\", \"INSERT INTO meta_diaria_python (id, result, data_verif) VALUES (553, 0, '2022-06-03')\", \"INSERT INTO meta_diaria_python (id, result, data_verif) VALUES (554, 0, '2022-06-03')\", \"INSERT INTO meta_diaria_python (id, result, data_verif) VALUES (562, 1, '2022-06-03')\", \"INSERT INTO meta_diaria_python (id, result, data_verif) VALUES (567, 1, '2022-06-03')\", \"INSERT INTO meta_diaria_python (id, result, data_verif) VALUES (569, 0, '2022-06-03')\", \"INSERT INTO meta_diaria_python (id, result, data_verif) VALUES (588, 0, '2022-06-03')\", \"INSERT INTO meta_diaria_python (id, result, data_verif) VALUES (590, 0, '2022-06-03')\", \"INSERT INTO meta_diaria_python (id, result, data_verif) VALUES (591, 1, '2022-06-03')\", \"INSERT INTO meta_diaria_python (id, result, data_verif) VALUES (594, 0, '2022-06-03')\", \"INSERT INTO meta_diaria_python (id, result, data_verif) VALUES (597, 0, '2022-06-03')\", \"INSERT INTO meta_diaria_python (id, result, data_verif) VALUES (600, 1, '2022-06-03')\", \"INSERT INTO meta_diaria_python (id, result, data_verif) VALUES (603, 0, '2022-06-03')\", \"INSERT INTO meta_diaria_python (id, result, data_verif) VALUES (606, 1, '2022-06-03')\", \"INSERT INTO meta_diaria_python (id, result, data_verif) VALUES (608, 0, '2022-06-03')\", \"INSERT INTO meta_diaria_python (id, result, data_verif) VALUES (613, 1, '2022-06-03')\", \"INSERT INTO meta_diaria_python (id, result, data_verif) VALUES (619, 1, '2022-06-03')\", \"INSERT INTO meta_diaria_python (id, result, data_verif) VALUES (620, 0, '2022-06-03')\", \"INSERT INTO meta_diaria_python (id, result, data_verif) VALUES (622, 1, '2022-06-03')\", \"INSERT INTO meta_diaria_python (id, result, data_verif) VALUES (624, 1, '2022-06-03')\", \"INSERT INTO meta_diaria_python (id, result, data_verif) VALUES (626, 0, '2022-06-03')\", \"INSERT INTO meta_diaria_python (id, result, data_verif) VALUES (628, 1, '2022-06-03')\", \"INSERT INTO meta_diaria_python (id, result, data_verif) VALUES (629, 1, '2022-06-03')\", \"INSERT INTO meta_diaria_python (id, result, data_verif) VALUES (634, 0, '2022-06-03')\", \"INSERT INTO meta_diaria_python (id, result, data_verif) VALUES (636, 0, '2022-06-03')\", \"INSERT INTO meta_diaria_python (id, result, data_verif) VALUES (638, 1, '2022-06-03')\", \"INSERT INTO meta_diaria_python (id, result, data_verif) VALUES (40, 0, '2022-06-03')\", \"INSERT INTO meta_diaria_python (id, result, data_verif) VALUES (178, 0, '2022-06-03')\", \"INSERT INTO meta_diaria_python (id, result, data_verif) VALUES (294, 0, '2022-06-03')\", \"INSERT INTO meta_diaria_python (id, result, data_verif) VALUES (315, 0, '2022-06-03')\", \"INSERT INTO meta_diaria_python (id, result, data_verif) VALUES (329, 0, '2022-06-03')\", \"INSERT INTO meta_diaria_python (id, result, data_verif) VALUES (379, 0, '2022-06-03')\", \"INSERT INTO meta_diaria_python (id, result, data_verif) VALUES (380, 0, '2022-06-03')\", \"INSERT INTO meta_diaria_python (id, result, data_verif) VALUES (382, 0, '2022-06-03')\", \"INSERT INTO meta_diaria_python (id, result, data_verif) VALUES (429, 0, '2022-06-03')\", \"INSERT INTO meta_diaria_python (id, result, data_verif) VALUES (445, 0, '2022-06-03')\", \"INSERT INTO meta_diaria_python (id, result, data_verif) VALUES (453, 0, '2022-06-03')\", \"INSERT INTO meta_diaria_python (id, result, data_verif) VALUES (456, 0, '2022-06-03')\", \"INSERT INTO meta_diaria_python (id, result, data_verif) VALUES (459, 0, '2022-06-03')\", \"INSERT INTO meta_diaria_python (id, result, data_verif) VALUES (466, 0, '2022-06-03')\", \"INSERT INTO meta_diaria_python (id, result, data_verif) VALUES (467, 0, '2022-06-03')\", \"INSERT INTO meta_diaria_python (id, result, data_verif) VALUES (468, 0, '2022-06-03')\", \"INSERT INTO meta_diaria_python (id, result, data_verif) VALUES (479, 0, '2022-06-03')\", \"INSERT INTO meta_diaria_python (id, result, data_verif) VALUES (483, 0, '2022-06-03')\", \"INSERT INTO meta_diaria_python (id, result, data_verif) VALUES (485, 0, '2022-06-03')\", \"INSERT INTO meta_diaria_python (id, result, data_verif) VALUES (488, 0, '2022-06-03')\", \"INSERT INTO meta_diaria_python (id, result, data_verif) VALUES (492, 0, '2022-06-03')\", \"INSERT INTO meta_diaria_python (id, result, data_verif) VALUES (495, 0, '2022-06-03')\", \"INSERT INTO meta_diaria_python (id, result, data_verif) VALUES (509, 0, '2022-06-03')\", \"INSERT INTO meta_diaria_python (id, result, data_verif) VALUES (519, 0, '2022-06-03')\", \"INSERT INTO meta_diaria_python (id, result, data_verif) VALUES (521, 0, '2022-06-03')\", \"INSERT INTO meta_diaria_python (id, result, data_verif) VALUES (524, 0, '2022-06-03')\", \"INSERT INTO meta_diaria_python (id, result, data_verif) VALUES (538, 0, '2022-06-03')\", \"INSERT INTO meta_diaria_python (id, result, data_verif) VALUES (543, 0, '2022-06-03')\", \"INSERT INTO meta_diaria_python (id, result, data_verif) VALUES (544, 0, '2022-06-03')\", \"INSERT INTO meta_diaria_python (id, result, data_verif) VALUES (547, 0, '2022-06-03')\", \"INSERT INTO meta_diaria_python (id, result, data_verif) VALUES (555, 0, '2022-06-03')\", \"INSERT INTO meta_diaria_python (id, result, data_verif) VALUES (557, 0, '2022-06-03')\", \"INSERT INTO meta_diaria_python (id, result, data_verif) VALUES (558, 0, '2022-06-03')\", \"INSERT INTO meta_diaria_python (id, result, data_verif) VALUES (568, 0, '2022-06-03')\", \"INSERT INTO meta_diaria_python (id, result, data_verif) VALUES (570, 0, '2022-06-03')\", \"INSERT INTO meta_diaria_python (id, result, data_verif) VALUES (571, 0, '2022-06-03')\", \"INSERT INTO meta_diaria_python (id, result, data_verif) VALUES (574, 0, '2022-06-03')\", \"INSERT INTO meta_diaria_python (id, result, data_verif) VALUES (575, 0, '2022-06-03')\", \"INSERT INTO meta_diaria_python (id, result, data_verif) VALUES (578, 0, '2022-06-03')\", \"INSERT INTO meta_diaria_python (id, result, data_verif) VALUES (579, 0, '2022-06-03')\", \"INSERT INTO meta_diaria_python (id, result, data_verif) VALUES (580, 0, '2022-06-03')\", \"INSERT INTO meta_diaria_python (id, result, data_verif) VALUES (587, 0, '2022-06-03')\", \"INSERT INTO meta_diaria_python (id, result, data_verif) VALUES (593, 0, '2022-06-03')\", \"INSERT INTO meta_diaria_python (id, result, data_verif) VALUES (596, 0, '2022-06-03')\", \"INSERT INTO meta_diaria_python (id, result, data_verif) VALUES (602, 0, '2022-06-03')\", \"INSERT INTO meta_diaria_python (id, result, data_verif) VALUES (604, 0, '2022-06-03')\", \"INSERT INTO meta_diaria_python (id, result, data_verif) VALUES (605, 0, '2022-06-03')\", \"INSERT INTO meta_diaria_python (id, result, data_verif) VALUES (607, 0, '2022-06-03')\", \"INSERT INTO meta_diaria_python (id, result, data_verif) VALUES (609, 0, '2022-06-03')\", \"INSERT INTO meta_diaria_python (id, result, data_verif) VALUES (610, 0, '2022-06-03')\", \"INSERT INTO meta_diaria_python (id, result, data_verif) VALUES (616, 0, '2022-06-03')\", \"INSERT INTO meta_diaria_python (id, result, data_verif) VALUES (617, 0, '2022-06-03')\", \"INSERT INTO meta_diaria_python (id, result, data_verif) VALUES (618, 0, '2022-06-03')\", \"INSERT INTO meta_diaria_python (id, result, data_verif) VALUES (621, 0, '2022-06-03')\", \"INSERT INTO meta_diaria_python (id, result, data_verif) VALUES (625, 0, '2022-06-03')\", \"INSERT INTO meta_diaria_python (id, result, data_verif) VALUES (627, 0, '2022-06-03')\", \"INSERT INTO meta_diaria_python (id, result, data_verif) VALUES (630, 0, '2022-06-03')\", \"INSERT INTO meta_diaria_python (id, result, data_verif) VALUES (631, 0, '2022-06-03')\", \"INSERT INTO meta_diaria_python (id, result, data_verif) VALUES (632, 0, '2022-06-03')\", \"INSERT INTO meta_diaria_python (id, result, data_verif) VALUES (633, 0, '2022-06-03')\", \"INSERT INTO meta_diaria_python (id, result, data_verif) VALUES (637, 0, '2022-06-03')\", \"INSERT INTO meta_diaria_python (id, result, data_verif) VALUES (639, 0, '2022-06-03')\", \"INSERT INTO meta_diaria_python (id, result, data_verif) VALUES (640, 0, '2022-06-03')\", \"INSERT INTO meta_diaria_python (id, result, data_verif) VALUES (641, 0, '2022-06-03')\", \"INSERT INTO meta_diaria_python (id, result, data_verif) VALUES (642, 0, '2022-06-03')\"]\n"
     ]
    }
   ],
   "source": [
    "comando_sql = SQL_INSERT_STATEMENT_FROM_DATAFRAME(df_entrada, \"meta_diaria_python\")\n",
    "\n",
    "for st in comando_sql:\n",
    "    cursor.execute(st)\n",
    "\n",
    "banco.commit()"
   ]
  }
 ],
 "metadata": {
  "kernelspec": {
   "display_name": "Python 3.10.4 64-bit",
   "language": "python",
   "name": "python3"
  },
  "language_info": {
   "codemirror_mode": {
    "name": "ipython",
    "version": 3
   },
   "file_extension": ".py",
   "mimetype": "text/x-python",
   "name": "python",
   "nbconvert_exporter": "python",
   "pygments_lexer": "ipython3",
   "version": "3.10.4"
  },
  "orig_nbformat": 4,
  "vscode": {
   "interpreter": {
    "hash": "c9ea56845b51b23d986ec3452a86f63a79aaad75fd0eb7f1921762b9a6e4e6c0"
   }
  }
 },
 "nbformat": 4,
 "nbformat_minor": 2
}
