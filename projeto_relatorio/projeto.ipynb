{
 "cells": [
  {
   "cell_type": "code",
   "execution_count": 44,
   "metadata": {},
   "outputs": [],
   "source": [
    "import pandas as pd\n",
    "import time\n",
    "import mysql.connector\n",
    "from datetime import datetime, timedelta"
   ]
  },
  {
   "cell_type": "code",
   "execution_count": 45,
   "metadata": {},
   "outputs": [],
   "source": [
    "banco = mysql.connector.connect(\n",
    "    host=\"mysql.nerusconsultoria.com.br\",\n",
    "    user=\"nerusconsultor02\",\n",
    "    passwd=\"0l1d3ranca2\",\n",
    "    database=\"nerusconsultor02\"\n",
    ")\n",
    "\n",
    "cursor = banco.cursor()\n",
    "\n",
    "hoje = datetime.today().weekday()\n",
    "\n",
    "if hoje == 0:\n",
    "    a = '3'\n",
    "else:\n",
    "    a = '1'\n",
    "\n",
    "comando_sql_1 = '''SELECT cc.id,cc.empresa,op.operador,resp_ontem.resp_ontem FROM cadastro_clientes AS cc\n",
    "                LEFT JOIN (SELECT CONCAT(cliente_id_fk) AS id,COUNT(*) AS resp_ontem FROM sales_base_leads\n",
    "                            WHERE DATE_FORMAT(ultima_resposta,'%Y-%m-%d') = CURRENT_DATE - interval '''\n",
    "\n",
    "comando_sql_2 = ''' day GROUP BY cliente_id_fk) \n",
    "                    AS resp_ontem ON resp_ontem.id = cc.id\n",
    "\n",
    "            JOIN carteira_clientes AS op ON op.id = cc.operador_fk\n",
    "\n",
    "            WHERE cc.status = 2 OR cc.status = 1 AND cc.campanha_pausada = 1'''\n",
    "\n",
    "comando_sql_leitura = comando_sql_1 + a + comando_sql_2\n",
    "\n",
    "cursor.execute(comando_sql_leitura)\n",
    "\n",
    "valores_lidos = cursor.fetchall()"
   ]
  },
  {
   "cell_type": "code",
   "execution_count": 46,
   "metadata": {},
   "outputs": [],
   "source": [
    "df_carteira = pd.DataFrame(valores_lidos)\n",
    "\n",
    "df_carteira.columns = ['id', 'empresa', 'carteira', 'resp_ontem']\n",
    "\n",
    "null_ontem = df_carteira.resp_ontem.isna().sum()\n",
    "\n",
    "#print(null_ontem)\n"
   ]
  },
  {
   "cell_type": "code",
   "execution_count": 47,
   "metadata": {},
   "outputs": [
    {
     "name": "stdout",
     "output_type": "stream",
     "text": [
      "INSERT INTO sem_respostas_python (total_null, data_verif) VALUES (31, \"2022-06-03\")\n"
     ]
    }
   ],
   "source": [
    "if hoje == 0:\n",
    "    data_verif = datetime.today() - timedelta(3)\n",
    "else:\n",
    "    data_verif = datetime.today() - timedelta(1)\n",
    "\n",
    "parte_1 = 'INSERT INTO sem_respostas_python (total_null, data_verif) VALUES ('\n",
    "\n",
    "comando_sql_entrada = parte_1 + str(null_ontem) + ', \"' + data_verif.strftime('%Y-%m-%d') + '\")'\n",
    "\n",
    "print(comando_sql_entrada)\n"
   ]
  },
  {
   "cell_type": "code",
   "execution_count": 48,
   "metadata": {},
   "outputs": [],
   "source": [
    "cursor.execute(comando_sql_entrada)\n",
    "\n",
    "banco.commit()"
   ]
  }
 ],
 "metadata": {
  "kernelspec": {
   "display_name": "Python 3.10.4 64-bit",
   "language": "python",
   "name": "python3"
  },
  "language_info": {
   "codemirror_mode": {
    "name": "ipython",
    "version": 3
   },
   "file_extension": ".py",
   "mimetype": "text/x-python",
   "name": "python",
   "nbconvert_exporter": "python",
   "pygments_lexer": "ipython3",
   "version": "3.10.4"
  },
  "orig_nbformat": 4,
  "vscode": {
   "interpreter": {
    "hash": "c9ea56845b51b23d986ec3452a86f63a79aaad75fd0eb7f1921762b9a6e4e6c0"
   }
  }
 },
 "nbformat": 4,
 "nbformat_minor": 2
}
